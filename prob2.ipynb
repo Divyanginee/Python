{
 "cells": [
  {
   "cell_type": "code",
   "execution_count": 16,
   "id": "7291ac93",
   "metadata": {
    "scrolled": true
   },
   "outputs": [
    {
     "name": "stdout",
     "output_type": "stream",
     "text": [
      "['Imagine', \"there's\", 'no', 'Heaven', \"It's\", 'easy', 'if', 'you', 'try', 'No', 'Hell', 'below', 'us', 'Above', 'us', 'only', 'sky', 'Imagine', 'all', 'the', 'people', 'Living', 'for', 'today', 'Aaa', 'haa', 'Imagine', \"there's\", 'no', 'countries', 'It', \"isn't\", 'hard', 'to', 'do', 'Nothing', 'to', 'kill', 'or', 'die', 'for', 'And', 'no', 'religion', 'too', 'Imagine', 'all', 'the', 'people', 'Living', 'life', 'in', 'peace', 'Yoo', 'hoo', 'You', 'may', 'say', \"I'm\", 'a', 'dreamer', 'But', \"I'm\", 'not', 'the', 'only', 'one', 'I', 'hope', 'someday', \"you'll\", 'join', 'us', 'And', 'the', 'world', 'will', 'be', 'as', 'one', 'Imagine', 'no', 'possessions', 'I', 'wonder', 'if', 'you', 'can', 'No', 'need', 'for', 'greed', 'or', 'hunger', 'A', 'brotherhood', 'of', 'man', 'Imagine', 'all', 'the', 'people', 'Sharing', 'all', 'the', 'world', 'Yoo', 'hoo', 'You', 'may', 'say', \"I'm\", 'a', 'dreamer', 'But', \"I'm\", 'not', 'the', 'only', 'one', 'I', 'hope', 'someday', \"you'll\", 'join', 'us', 'And', 'the', 'world', 'will', 'live', 'as', 'one']\n",
      "\n",
      "\n",
      "{'No', 'Above', 'Nothing', 'be', 'hunger', 'easy', \"I'm\", 'world', 'if', 'brotherhood', 'And', 'life', \"there's\", 'dreamer', 'you', 'kill', 'die', 'man', 'wonder', 'Heaven', 'can', 'us', 'the', 'below', 'haa', 'or', 'religion', 'too', 'You', 'do', 'a', 'hope', \"you'll\", 'sky', 'hard', 'people', 'will', 'I', 'greed', 'of', 'as', 'need', 'live', 'countries', 'possessions', 'hoo', 'may', \"It's\", 'Hell', \"isn't\", 'But', 'only', 'It', 'one', 'to', 'all', 'not', 'Aaa', 'no', 'someday', 'Imagine', 'join', 'A', 'say', 'try', 'Living', 'in', 'Yoo', 'peace', 'today', 'for', 'Sharing'}\n",
      "\n",
      "\n",
      "Total numbers of words: 133\n",
      "Total numbers of unique words: 72\n",
      "\n",
      "\n",
      "{'No': 2, 'Above': 1, 'Nothing': 1, 'be': 1, 'hunger': 1, 'easy': 1, \"I'm\": 4, 'world': 3, 'if': 2, 'brotherhood': 1, 'And': 3, 'life': 1, \"there's\": 2, 'dreamer': 2, 'you': 2, 'kill': 1, 'die': 1, 'man': 1, 'wonder': 1, 'Heaven': 1, 'can': 1, 'us': 4, 'the': 8, 'below': 1, 'haa': 1, 'or': 2, 'religion': 1, 'too': 1, 'You': 2, 'do': 1, 'a': 2, 'hope': 2, \"you'll\": 2, 'sky': 1, 'hard': 1, 'people': 3, 'will': 2, 'I': 3, 'greed': 1, 'of': 1, 'as': 2, 'need': 1, 'live': 1, 'countries': 1, 'possessions': 1, 'hoo': 2, 'may': 2, \"It's\": 1, 'Hell': 1, \"isn't\": 1, 'But': 2, 'only': 3, 'It': 1, 'one': 4, 'to': 2, 'all': 4, 'not': 2, 'Aaa': 1, 'no': 4, 'someday': 2, 'Imagine': 6, 'join': 2, 'A': 1, 'say': 2, 'try': 1, 'Living': 2, 'in': 1, 'Yoo': 2, 'peace': 1, 'today': 1, 'for': 3, 'Sharing': 1}\n",
      "\n",
      "\n",
      "8\n",
      "{'No': 2, 'Above': 1, 'Nothing': 1, 'be': 1, 'hunger': 1, 'easy': 1, \"I'm\": 4, 'world': 3, 'if': 2, 'brotherhood': 1, 'And': 3, 'life': 1, \"there's\": 2, 'dreamer': 2, 'you': 2, 'kill': 1, 'die': 1, 'man': 1, 'wonder': 1, 'Heaven': 1, 'can': 1, 'us': 4, 'the': 8, 'below': 1, 'haa': 1, 'or': 2, 'religion': 1, 'too': 1, 'You': 2, 'do': 1, 'a': 2, 'hope': 2, \"you'll\": 2, 'sky': 1, 'hard': 1, 'people': 3, 'will': 2, 'I': 3, 'greed': 1, 'of': 1, 'as': 2, 'need': 1, 'live': 1, 'countries': 1, 'possessions': 1, 'hoo': 2, 'may': 2, \"It's\": 1, 'Hell': 1, \"isn't\": 1, 'But': 2, 'only': 3, 'It': 1, 'one': 4, 'to': 2, 'all': 4, 'not': 2, 'Aaa': 1, 'no': 4, 'someday': 2, 'Imagine': 6, 'join': 2, 'A': 1, 'say': 2, 'try': 1, 'Living': 2, 'in': 1, 'Yoo': 2, 'peace': 1, 'today': 1, 'for': 3, 'Sharing': 1}\n"
     ]
    }
   ],
   "source": [
    "'''Create a string variable with the lyrics of Imagine by John Lennon, 1971. Split into words. Print the total number of \n",
    "words, and the number of unique words. Calculate the frequency of each word and store the result into a dictionary. Print\n",
    "each unique word along with its frequency. Find the most frequent word in the song, print it with its frequency.'''\n",
    "\n",
    "lyrics = \"\"\"\n",
    "Imagine there's no Heaven\n",
    "It's easy if you try\n",
    "No Hell below us\n",
    "Above us only sky\n",
    "\n",
    "Imagine all the people\n",
    "Living for today\n",
    "Aaa haa\n",
    "\n",
    "Imagine there's no countries\n",
    "It isn't hard to do\n",
    "Nothing to kill or die for\n",
    "And no religion too\n",
    "\n",
    "Imagine all the people\n",
    "Living life in peace\n",
    "Yoo hoo\n",
    "\n",
    "You may say I'm a dreamer\n",
    "But I'm not the only one\n",
    "I hope someday you'll join us\n",
    "And the world will be as one\n",
    "\n",
    "Imagine no possessions\n",
    "I wonder if you can\n",
    "No need for greed or hunger\n",
    "A brotherhood of man\n",
    "\n",
    "Imagine all the people\n",
    "Sharing all the world\n",
    "Yoo hoo\n",
    "\n",
    "You may say I'm a dreamer\n",
    "But I'm not the only one\n",
    "I hope someday you'll join us\n",
    "And the world will live as one\n",
    "\"\"\"\n",
    "s=lyrics.split()\n",
    "set1=set(s)\n",
    "print(s)\n",
    "print('\\n')\n",
    "print(set1)\n",
    "print('\\n')\n",
    "print('Total numbers of words:',len(s))\n",
    "print('Total numbers of unique words:',len(set1))\n",
    "print('\\n')\n",
    "d={}\n",
    "for i in set1:\n",
    "    c=0\n",
    "    for j in s:\n",
    "        if i==j:\n",
    "            c+=1\n",
    "    dec={i:c}\n",
    "    d.update(dec)\n",
    "print(d)\n",
    "m=max(d.values())\n",
    "print('\\n')\n",
    "print(m)\n",
    "for l in d.values():\n",
    "    if l==m:\n",
    "        print(d)\n",
    "    else:\n",
    "        pass"
   ]
  },
  {
   "cell_type": "code",
   "execution_count": null,
   "id": "f329ceb8",
   "metadata": {},
   "outputs": [],
   "source": []
  }
 ],
 "metadata": {
  "kernelspec": {
   "display_name": "Python 3 (ipykernel)",
   "language": "python",
   "name": "python3"
  },
  "language_info": {
   "codemirror_mode": {
    "name": "ipython",
    "version": 3
   },
   "file_extension": ".py",
   "mimetype": "text/x-python",
   "name": "python",
   "nbconvert_exporter": "python",
   "pygments_lexer": "ipython3",
   "version": "3.9.12"
  }
 },
 "nbformat": 4,
 "nbformat_minor": 5
}
