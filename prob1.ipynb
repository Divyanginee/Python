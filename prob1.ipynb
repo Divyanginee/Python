{
 "cells": [
  {
   "cell_type": "code",
   "execution_count": 47,
   "id": "7291ac93",
   "metadata": {
    "scrolled": true
   },
   "outputs": [
    {
     "name": "stdout",
     "output_type": "stream",
     "text": [
      "['Imagine', \"there's\", 'no', 'Heaven', \"It's\", 'easy', 'if', 'you', 'try', 'No', 'Hell', 'below', 'us', 'Above', 'us', 'only', 'sky', 'Imagine', 'all', 'the', 'people', 'Living', 'for', 'today', 'Aaa', 'haa', 'Imagine', \"there's\", 'no', 'countries', 'It', \"isn't\", 'hard', 'to', 'do', 'Nothing', 'to', 'kill', 'or', 'die', 'for', 'And', 'no', 'religion', 'too', 'Imagine', 'all', 'the', 'people', 'Living', 'life', 'in', 'peace', 'Yoo', 'hoo', 'You', 'may', 'say', \"I'm\", 'a', 'dreamer', 'But', \"I'm\", 'not', 'the', 'only', 'one', 'I', 'hope', 'someday', \"you'll\", 'join', 'us', 'And', 'the', 'world', 'will', 'be', 'as', 'one', 'Imagine', 'no', 'possessions', 'I', 'wonder', 'if', 'you', 'can', 'No', 'need', 'for', 'greed', 'or', 'hunger', 'A', 'brotherhood', 'of', 'man', 'Imagine', 'all', 'the', 'people', 'Sharing', 'all', 'the', 'world', 'Yoo', 'hoo', 'You', 'may', 'say', \"I'm\", 'a', 'dreamer', 'But', \"I'm\", 'not', 'the', 'only', 'one', 'I', 'hope', 'someday', \"you'll\", 'join', 'us', 'And', 'the', 'world', 'will', 'live', 'as', 'one']\n",
      "\n",
      "\n",
      "{'die', 'Sharing', 'And', 'Living', \"you'll\", 'peace', \"there's\", 'Yoo', 'world', 'possessions', 'of', 'sky', 'need', 'Aaa', 'Heaven', 'brotherhood', 'no', 'a', 'someday', 'dreamer', 'hard', 'No', 'hunger', 'I', 'people', 'say', 'But', 'can', 'Above', 'all', 'Nothing', 'be', 'greed', 'It', 'You', 'kill', 'hoo', 'Hell', 'for', 'life', 'to', 'religion', 'may', 'hope', 'will', 'wonder', 'countries', 'or', 'us', 'Imagine', 'you', 'as', 'only', 'too', 'in', 'one', 'join', 'A', 'man', \"I'm\", 'today', 'try', 'haa', 'easy', 'if', \"isn't\", 'below', 'do', 'not', 'the', \"It's\", 'live'}\n",
      "\n",
      "\n",
      "Total numbers of words: 133\n",
      "Total numbers of unique words: 72\n",
      "\n",
      "\n",
      "{'die': 1, 'Sharing': 1, 'And': 3, 'Living': 2, \"you'll\": 2, 'peace': 1, \"there's\": 2, 'Yoo': 2, 'world': 3, 'possessions': 1, 'of': 1, 'sky': 1, 'need': 1, 'Aaa': 1, 'Heaven': 1, 'brotherhood': 1, 'no': 4, 'a': 2, 'someday': 2, 'dreamer': 2, 'hard': 1, 'No': 2, 'hunger': 1, 'I': 3, 'people': 3, 'say': 2, 'But': 2, 'can': 1, 'Above': 1, 'all': 4, 'Nothing': 1, 'be': 1, 'greed': 1, 'It': 1, 'You': 2, 'kill': 1, 'hoo': 2, 'Hell': 1, 'for': 3, 'life': 1, 'to': 2, 'religion': 1, 'may': 2, 'hope': 2, 'will': 2, 'wonder': 1, 'countries': 1, 'or': 2, 'us': 4, 'Imagine': 6, 'you': 2, 'as': 2, 'only': 3, 'too': 1, 'in': 1, 'one': 4, 'join': 2, 'A': 1, 'man': 1, \"I'm\": 4, 'today': 1, 'try': 1, 'haa': 1, 'easy': 1, 'if': 2, \"isn't\": 1, 'below': 1, 'do': 1, 'not': 2, 'the': 8, \"It's\": 1, 'live': 1}\n",
      "\n",
      "\n",
      "8\n"
     ]
    }
   ],
   "source": [
    "lyrics = \"\"\"\n",
    "Imagine there's no Heaven\n",
    "It's easy if you try\n",
    "No Hell below us\n",
    "Above us only sky\n",
    "\n",
    "Imagine all the people\n",
    "Living for today\n",
    "Aaa haa\n",
    "\n",
    "Imagine there's no countries\n",
    "It isn't hard to do\n",
    "Nothing to kill or die for\n",
    "And no religion too\n",
    "\n",
    "Imagine all the people\n",
    "Living life in peace\n",
    "Yoo hoo\n",
    "\n",
    "You may say I'm a dreamer\n",
    "But I'm not the only one\n",
    "I hope someday you'll join us\n",
    "And the world will be as one\n",
    "\n",
    "Imagine no possessions\n",
    "I wonder if you can\n",
    "No need for greed or hunger\n",
    "A brotherhood of man\n",
    "\n",
    "Imagine all the people\n",
    "Sharing all the world\n",
    "Yoo hoo\n",
    "\n",
    "You may say I'm a dreamer\n",
    "But I'm not the only one\n",
    "I hope someday you'll join us\n",
    "And the world will live as one\n",
    "\"\"\"\n",
    "s=lyrics.split()\n",
    "set1=set(s)\n",
    "print(s)\n",
    "print('\\n')\n",
    "print(set1)\n",
    "print('\\n')\n",
    "print('Total numbers of words:',len(s))\n",
    "print('Total numbers of unique words:',len(set1))\n",
    "print('\\n')\n",
    "d={}\n",
    "for i in set1:\n",
    "    c=0\n",
    "    for j in s:\n",
    "        if i==j:\n",
    "            c+=1\n",
    "    dec={i:c}\n",
    "    d.update(dec)\n",
    "print(d)\n",
    "m=0\n",
    "for k in d.values():\n",
    "    if m<=k:\n",
    "        m=k\n",
    "print('\\n')\n",
    "print(m)\n"
   ]
  },
  {
   "cell_type": "code",
   "execution_count": null,
   "id": "f329ceb8",
   "metadata": {},
   "outputs": [],
   "source": []
  }
 ],
 "metadata": {
  "kernelspec": {
   "display_name": "Python 3 (ipykernel)",
   "language": "python",
   "name": "python3"
  },
  "language_info": {
   "codemirror_mode": {
    "name": "ipython",
    "version": 3
   },
   "file_extension": ".py",
   "mimetype": "text/x-python",
   "name": "python",
   "nbconvert_exporter": "python",
   "pygments_lexer": "ipython3",
   "version": "3.9.12"
  }
 },
 "nbformat": 4,
 "nbformat_minor": 5
}
