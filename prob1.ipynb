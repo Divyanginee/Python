{
 "cells": [
  {
   "cell_type": "code",
   "execution_count": 14,
   "id": "a742decd",
   "metadata": {},
   "outputs": [
    {
     "name": "stdout",
     "output_type": "stream",
     "text": [
      "Parker\n",
      "True\n",
      "5\n"
     ]
    }
   ],
   "source": [
    "'''1. Create a string variable with your full name in it, with your first and last name (and any middle names) seperated\n",
    "      by a space. Split the string into a list, and print out your surname.\n",
    "   2.Check if your surname contains the letter \"E\", and print out the position of this letter in the string. Try a few\n",
    "      other letters'''\n",
    "\n",
    "name= 'Peter Parker'\n",
    "mylist= name.split()\n",
    "print(mylist[1])\n",
    "x= 'e' in mylist[1]\n",
    "print(x)\n",
    "c=0\n",
    "for i in mylist[1]:\n",
    "    if i=='e':\n",
    "        continue\n",
    "    else:\n",
    "        c+=1\n",
    "print(c)"
   ]
  },
  {
   "cell_type": "code",
   "execution_count": null,
   "id": "59ed2f2c",
   "metadata": {},
   "outputs": [],
   "source": []
  }
 ],
 "metadata": {
  "kernelspec": {
   "display_name": "Python 3 (ipykernel)",
   "language": "python",
   "name": "python3"
  },
  "language_info": {
   "codemirror_mode": {
    "name": "ipython",
    "version": 3
   },
   "file_extension": ".py",
   "mimetype": "text/x-python",
   "name": "python",
   "nbconvert_exporter": "python",
   "pygments_lexer": "ipython3",
   "version": "3.9.12"
  }
 },
 "nbformat": 4,
 "nbformat_minor": 5
}
